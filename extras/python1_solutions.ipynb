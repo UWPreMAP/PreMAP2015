{
 "cells": [
  {
   "cell_type": "markdown",
   "metadata": {},
   "source": [
    "![astropy logo](https://github.com/astropy/astropy-logo/raw/master/generated/astropy_banner_96.png)\n",
    "\n",
    "# [Python 1](http://kgarofali.github.io/Pre-MAP//docs/Python1.pdf) solutions with `astropy`\n",
    "\n",
    "[Astropy](http://www.astropy.org/) is an open source collection of tools for astronomers written in Python. One of astropy's most useful features for using Python as a calculator is its units module. This module lets you assign units to variables and understands how they propagate through arithmetic. \n",
    "\n",
    "### 5) Schwarzschild radii\n",
    "\n",
    "**a)** Print the masses:"
   ]
  },
  {
   "cell_type": "code",
   "execution_count": 11,
   "metadata": {
    "collapsed": false
   },
   "outputs": [
    {
     "data": {
      "text/latex": [
       "$[8.573021 \\times 10^{36},~1.9891 \\times 10^{30},~2.78474 \\times 10^{30}] \\; \\mathrm{kg}$"
      ],
      "text/plain": [
       "<Quantity [  8.57302100e+36,  1.98910000e+30,  2.78474000e+30] kg>"
      ]
     },
     "execution_count": 11,
     "metadata": {},
     "output_type": "execute_result"
    }
   ],
   "source": [
    "import numpy as np\n",
    "\n",
    "# This is how we'll access astropy's units module: \n",
    "import astropy.units as u\n",
    "\n",
    "# astropy stores fundamental physical constants like \n",
    "# the mass of the sun M_sun\n",
    "from astropy.constants import M_sun\n",
    "\n",
    "masses = u.Quantity([4.31e6*M_sun, 1*M_sun, 1.4*M_sun])\n",
    "masses"
   ]
  },
  {
   "cell_type": "markdown",
   "metadata": {},
   "source": [
    "**b)** Retrieve constants from astropy's [`constants` module](http://docs.astropy.org/en/stable/constants/)"
   ]
  },
  {
   "cell_type": "code",
   "execution_count": 23,
   "metadata": {
    "collapsed": false
   },
   "outputs": [
    {
     "data": {
      "text/latex": [
       "$[8.573021 \\times 10^{39},~1.9891 \\times 10^{33},~2.78474 \\times 10^{33}] \\; \\mathrm{g}$"
      ],
      "text/plain": [
       "<Quantity [  8.57302100e+39,  1.98910000e+33,  2.78474000e+33] g>"
      ]
     },
     "execution_count": 23,
     "metadata": {},
     "output_type": "execute_result"
    }
   ],
   "source": [
    "# Newton's gravitational constant G, \n",
    "# speed of light c, radius of sun R_sun\n",
    "from astropy.constants import c, G, R_sun\n",
    "\n",
    "# Convert the masses to units of grams using the `to` method\n",
    "masses.to(u.gram)"
   ]
  },
  {
   "cell_type": "markdown",
   "metadata": {},
   "source": [
    "**c)** Compute $r_s$, convert to cm"
   ]
  },
  {
   "cell_type": "code",
   "execution_count": 20,
   "metadata": {
    "collapsed": false
   },
   "outputs": [
    {
     "name": "stdout",
     "output_type": "stream",
     "text": [
      "r_s in centimeters: [  1.27320480e+12   2.95407147e+05   4.13570005e+05] cm\n"
     ]
    }
   ],
   "source": [
    "r_s = 2*G*masses/c**2\n",
    "print \"r_s in centimeters: {0}\".format(r_s.to(u.cm))"
   ]
  },
  {
   "cell_type": "markdown",
   "metadata": {},
   "source": [
    "**d)** $r_s$ in units of solar radii:"
   ]
  },
  {
   "cell_type": "code",
   "execution_count": 19,
   "metadata": {
    "collapsed": false
   },
   "outputs": [
    {
     "name": "stdout",
     "output_type": "stream",
     "text": [
      "r_s in solar radii: [  1.83061130e+01   4.24735800e-06   5.94630120e-06]\n"
     ]
    }
   ],
   "source": [
    "print \"r_s in solar radii: {0}\".format(r_s/R_sun)"
   ]
  },
  {
   "cell_type": "markdown",
   "metadata": {},
   "source": [
    "**e)** $r_s$ in units of AU"
   ]
  },
  {
   "cell_type": "code",
   "execution_count": 25,
   "metadata": {
    "collapsed": false
   },
   "outputs": [
    {
     "name": "stdout",
     "output_type": "stream",
     "text": [
      "r_s in AU: [  8.51084842e-02   1.97467481e-08   2.76454473e-08] AU\n"
     ]
    }
   ],
   "source": [
    "print \"r_s in AU: {0}\".format(r_s.to(u.AU))"
   ]
  },
  {
   "cell_type": "markdown",
   "metadata": {},
   "source": [
    "**f)** Compare $r_s$ of Sag A* to orbits of solar system planets:"
   ]
  },
  {
   "cell_type": "code",
   "execution_count": 69,
   "metadata": {
    "collapsed": false
   },
   "outputs": [
    {
     "name": "stdout",
     "output_type": "stream",
     "text": [
      "Any planets interior to r_s?: False\n"
     ]
    },
    {
     "data": {
      "image/png": "[encoded data removed]",
      "text/plain": [
       "<matplotlib.figure.Figure at 0x7f3ee6665750>"
      ]
     },
     "metadata": {},
     "output_type": "display_data"
    }
   ],
   "source": [
    "%matplotlib inline\n",
    "import matplotlib.pyplot as plt\n",
    "\n",
    "planet_names = ['Mercury', 'Venus', 'Earth', 'Mars', 'Jupiter', 'Saturn', 'Uranus', 'Neptune']\n",
    "semimajor_axes = u.Quantity([0.38, 0.72, 1, 1.5, 5.2, 9.5, 19.1, 30.0], unit=u.AU)\n",
    "\n",
    "print \"Any planets interior to r_s?: {0}\".format(any(r_s[0] > semimajor_axes))\n",
    "\n",
    "fig, ax = plt.subplots()\n",
    "ax.bar(range(len(semimajor_axes)), semimajor_axes.to(u.AU).value, \n",
    "       log=True, color='k')\n",
    "ax.set_xticklabels(planet_names, ha='left')\n",
    "ax.axhline(r_s[0].to(u.AU).value, color='r', label='$r_s$')\n",
    "ax.legend()\n",
    "ax.set_ylabel('Semimajor Axis [AU]');"
   ]
  },
  {
   "cell_type": "markdown",
   "metadata": {},
   "source": [
    "**g)** How much bigger is neutron star radius than $r_s$?"
   ]
  },
  {
   "cell_type": "code",
   "execution_count": 73,
   "metadata": {
    "collapsed": false
   },
   "outputs": [
    {
     "name": "stdout",
     "output_type": "stream",
     "text": [
      "how much bigger is neutron star's radius?: 2.42x bigger\n"
     ]
    }
   ],
   "source": [
    "radius_neutron_star = 10*u.km\n",
    "print(\"how much bigger is neutron star's radius?: {0:.2f}x bigger\"\n",
    "      .format(float(radius_neutron_star/r_s[2])))"
   ]
  },
  {
   "cell_type": "markdown",
   "metadata": {},
   "source": [
    "### 6) Planets\n",
    "\n",
    "**a)** Semimajor axes in cm:"
   ]
  },
  {
   "cell_type": "code",
   "execution_count": 47,
   "metadata": {
    "collapsed": false
   },
   "outputs": [
    {
     "data": {
      "text/latex": [
       "$[5.6847191 \\times 10^{12},~1.0771047 \\times 10^{13},~1.4959787 \\times 10^{13},~2.2439681 \\times 10^{13},~7.7790893 \\times 10^{13},~1.4211798 \\times 10^{14},~2.8573193 \\times 10^{14},~4.4879361 \\times 10^{14},~5.9839148 \\times 10^{14}] \\; \\mathrm{cm}$"
      ],
      "text/plain": [
       "<Quantity [  5.68471909e+12,  1.07710467e+13,  1.49597871e+13,\n",
       "             2.24396806e+13,  7.77908928e+13,  1.42117977e+14,\n",
       "             2.85731933e+14,  4.48793612e+14,  5.98391483e+14] cm>"
      ]
     },
     "execution_count": 47,
     "metadata": {},
     "output_type": "execute_result"
    }
   ],
   "source": [
    "planet_names = ['Mercury', 'Venus', 'Earth', 'Mars', 'Jupiter', 'Saturn', 'Uranus', 'Neptune', 'Pluto']\n",
    "semimajor_axes = u.Quantity([0.38, 0.72, 1, 1.5, 5.2, 9.5, 19.1, 30.0, 40], unit=u.AU)\n",
    "semimajor_axes.to(u.cm)"
   ]
  },
  {
   "cell_type": "markdown",
   "metadata": {},
   "source": [
    "**b-c)** Orbital period, in years\n",
    "\n",
    "Use numpy's `np.pi` variable to get a high-precision value for $\\pi$"
   ]
  },
  {
   "cell_type": "code",
   "execution_count": 64,
   "metadata": {
    "collapsed": false
   },
   "outputs": [
    {
     "data": {
      "text/latex": [
       "$[0.23421959,~0.61086685,~0.99987985,~1.8368966,~11.8564,~29.277448,~83.463745,~164.29702,~252.95182] \\; \\mathrm{yr}$"
      ],
      "text/plain": [
       "<Quantity [  2.34219587e-01,  6.10866853e-01,  9.99879848e-01,\n",
       "             1.83689657e+00,  1.18563997e+01,  2.92774483e+01,\n",
       "             8.34637448e+01,  1.64297024e+02,  2.52951816e+02] yr>"
      ]
     },
     "execution_count": 64,
     "metadata": {},
     "output_type": "execute_result"
    }
   ],
   "source": [
    "T = (4 * np.pi**2 * semimajor_axes**3 / (G*M_sun))**0.5\n",
    "T.to(u.year)"
   ]
  },
  {
   "cell_type": "markdown",
   "metadata": {},
   "source": [
    "**d)** Light travel time in hours, given\n",
    "\n",
    "$$\\Delta t = \\frac{\\Delta x}{c}$$"
   ]
  },
  {
   "cell_type": "code",
   "execution_count": 65,
   "metadata": {
    "collapsed": false
   },
   "outputs": [
    {
     "data": {
      "text/latex": [
       "$[0.052672727,~0.099800957,~0.13861244,~0.20791866,~0.72078469,~1.3168182,~2.6474976,~4.1583732,~5.5444976] \\; \\mathrm{h}$"
      ],
      "text/plain": [
       "<Quantity [ 0.05267273, 0.09980096, 0.13861244, 0.20791866, 0.72078469,\n",
       "            1.31681818, 2.6474976 , 4.1583732 , 5.5444976 ] h>"
      ]
     },
     "execution_count": 65,
     "metadata": {},
     "output_type": "execute_result"
    }
   ],
   "source": [
    "(semimajor_axes/c).to(u.hour)"
   ]
  },
  {
   "cell_type": "code",
   "execution_count": null,
   "metadata": {
    "collapsed": true
   },
   "outputs": [],
   "source": []
  }
 ],
 "metadata": {
  "kernelspec": {
   "display_name": "Python 2",
   "language": "python",
   "name": "python2"
  },
  "language_info": {
   "codemirror_mode": {
    "name": "ipython",
    "version": 2
   },
   "file_extension": ".py",
   "mimetype": "text/x-python",
   "name": "python",
   "nbconvert_exporter": "python",
   "pygments_lexer": "ipython2",
   "version": "2.7.10"
  }
 },
 "nbformat": 4,
 "nbformat_minor": 0
}
